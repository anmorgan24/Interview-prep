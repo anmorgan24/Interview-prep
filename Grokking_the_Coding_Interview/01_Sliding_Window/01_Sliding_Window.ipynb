{
 "cells": [
  {
   "cell_type": "markdown",
   "id": "b9c0231e",
   "metadata": {},
   "source": [
    "# Pattern: Sliding Window\n",
    "**Note:** The following is a combination of notes from [educative](https://www.educative.io/learn)'s [\"Grokking the Coding Interview\"](https://www.educative.io/courses/grokking-the-coding-interview/xl0ElGxR6Bq) course"
   ]
  },
  {
   "cell_type": "markdown",
   "id": "d572fc2e",
   "metadata": {},
   "source": [
    "This course categorizes coding interview problems into a set of 16 patterns. Each pattern will be a complete tool - consisting of data structures, algorithms, and analysis techniques - to solve a specific category of problems. The goal is to develop an understanding of the underlying pattern, so that, we can apply that pattern to solve other problems.\n",
    "\n",
    "We have chosen each problem carefully such that it not only maps to the same pattern but also presents different constraints. Overall, the course has around 150 problems mapped to 16 patterns.\n",
    "\n",
    "The problems solved under these patterns use a varied set of algorithmic techniques. We will make use of **Breadth-First Search** and **Depth-First Search** to solve problems related to **Trees** and **Graphs**. Similarly, we will also cover **Dynamic Programming**, **Backtracking**, **Recursion**, **Greedy algorithms**, and **Divide & Conquer**."
   ]
  },
  {
   "cell_type": "markdown",
   "id": "555472cc",
   "metadata": {},
   "source": [
    "### Brute force\n",
    "A brute-force algorithm will calculate the sum of every 5-element subarray of the given array and divide the sum by ‘5’ to find the average. This is what the algorithm will look like:"
   ]
  },
  {
   "cell_type": "code",
   "execution_count": 5,
   "id": "4b49b8d5",
   "metadata": {},
   "outputs": [
    {
     "name": "stdout",
     "output_type": "stream",
     "text": [
      "Averages of subarrays of size K: [2.2, 2.8, 2.4, 3.6, 2.8]\n"
     ]
    }
   ],
   "source": [
    "def find_averages_of_subarrays(K, arr):\n",
    "    result = []\n",
    "    for i in range(len(arr)-K+1):\n",
    "        # find sum of nex 'K' elements\n",
    "        _sum = 0.0\n",
    "        for j in range(i, i+K):\n",
    "            _sum += arr[j]\n",
    "        result.append(_sum/K)\n",
    "        \n",
    "    return result\n",
    "\n",
    "def main():\n",
    "    result = find_averages_of_subarrays(5, [1, 3, 2, 6, -1, 4, 1, 8, 2])\n",
    "    print(\"Averages of subarrays of size K: \" + str(result))\n",
    "    \n",
    "main()"
   ]
  },
  {
   "cell_type": "markdown",
   "id": "3efa1a08",
   "metadata": {},
   "source": [
    "**Time complexity:** Since for every element of the input array, we are calculating the sum of its next ‘K’ elements, the time complexity of the above algorithm will be: $$O(N*K)$$ where ‘N’ is the number of elements in the input array.\n",
    "\n",
    "The **inefficiency** is that for any two consecutive subarrays of size '5', the overlapping part (which will contain four elements) will be evaluated twice. For example:\n",
    "\n",
    "<img src='../data/sw0.png' width=\"500\" height=\"250\" align=\"center\"/>\n",
    "\n",
    "There are four overlapping elements between the subarray indexed 0-4 and the subarray indexed 1-5. Can we somehow reuse the `sum` we have calculated for the overlapping elements?\n",
    "\n",
    "The **efficient** way to solve this problem would be to visualize each subarray as a sliding window of '5' elements. This means that **we will slide the window by one element when we move on to the next subarray.** To reuse the `sum` from the previous subarray, we will subtract the element going out of the window and add the element now being included in the sliding window. This will save us from going through the whole subarray to find the `sum` and, as a result, the algorithm complexity will reduce to: $$O(N)$$\n",
    "\n",
    "<img src='../data/sw1.png' width=\"500\" height=\"250\" align=\"center\"/>\n",
    "\n",
    "**Here is the algorithm for the sliding window approach:**"
   ]
  },
  {
   "cell_type": "code",
   "execution_count": 1,
   "id": "299f5d0e",
   "metadata": {},
   "outputs": [
    {
     "name": "stdout",
     "output_type": "stream",
     "text": [
      "Averages of subarrays of size K: [2.2, 2.8, 2.4, 3.6, 2.8]\n"
     ]
    }
   ],
   "source": [
    "def find_averages_of_subarrays(K, arr):\n",
    "    result = []\n",
    "    windowSum, windowStart = 0.0, 0\n",
    "    for windowEnd in range(len(arr)):\n",
    "        windowSum += arr[windowEnd] # add the next element\n",
    "        #slide the window, we don't need to slide if we've not hit the required window size of 'k'\n",
    "        if windowEnd >= K-1:\n",
    "            result.append(windowSum / K) # calculate the average\n",
    "            windowSum -= arr[windowStart] # subtract the element going out\n",
    "            windowStart += 1 # slide the window ahead\n",
    "            \n",
    "    return result\n",
    "\n",
    "def main():\n",
    "    result = find_averages_of_subarrays(5, [1, 3, 2, 6, -1, 4, 1, 8, 2])\n",
    "    print(\"Averages of subarrays of size K: \" + str(result))\n",
    "    \n",
    "main()"
   ]
  },
  {
   "cell_type": "markdown",
   "id": "9b2782f3",
   "metadata": {},
   "source": [
    "## Exercises\n",
    "### Maximum Sum Subarray of Size K (easy)\n",
    "Given an array of positive numbers and a positive number ‘k,’ find the **maximum sum of any contiguous subarray of size ‘k’**.\n",
    "\n",
    "$\\star$ **My first attempt:**"
   ]
  },
  {
   "cell_type": "code",
   "execution_count": 8,
   "id": "8c2dd960",
   "metadata": {},
   "outputs": [],
   "source": [
    "def max_sub_array_of_size_k(k, arr):\n",
    "  subSum = []\n",
    "  windowSum, windowStart = 0, 0\n",
    "  for windowEnd in range(len(arr)):\n",
    "    windowSum +=arr[windowEnd] # add the next element\n",
    "    # slide the window, we don't need to slide if we've not hit the required window size of 'k'\n",
    "    if windowEnd >= k-1:\n",
    "      subSum.append(windowSum) # add the sum\n",
    "      windowSum -= arr[windowStart] # subtract the outgoing element\n",
    "      windowStart += 1 # slide the window ahead\n",
    "  \n",
    "  return(max(subSum))"
   ]
  },
  {
   "cell_type": "code",
   "execution_count": 9,
   "id": "7d9e1722",
   "metadata": {},
   "outputs": [
    {
     "data": {
      "text/plain": [
       "9"
      ]
     },
     "execution_count": 9,
     "metadata": {},
     "output_type": "execute_result"
    }
   ],
   "source": [
    "max_sub_array_of_size_k(3, [2, 1, 5, 1, 3, 2])"
   ]
  },
  {
   "cell_type": "code",
   "execution_count": 10,
   "id": "268bf383",
   "metadata": {},
   "outputs": [
    {
     "data": {
      "text/plain": [
       "7"
      ]
     },
     "execution_count": 10,
     "metadata": {},
     "output_type": "execute_result"
    }
   ],
   "source": [
    "max_sub_array_of_size_k(2, [2, 3, 4, 1, 5])"
   ]
  },
  {
   "cell_type": "markdown",
   "id": "fb6babbb",
   "metadata": {},
   "source": [
    "**The brute force answer:**"
   ]
  },
  {
   "cell_type": "code",
   "execution_count": 12,
   "id": "3fa23bd6",
   "metadata": {},
   "outputs": [
    {
     "name": "stdout",
     "output_type": "stream",
     "text": [
      "Maximum sum of a subarray of size K: 11\n",
      "Maximum sum of a subarray of size K: 13\n"
     ]
    }
   ],
   "source": [
    "def max_sub_array_of_size_k(k, arr):\n",
    "    max_sum, window_sum = 0,0\n",
    "    \n",
    "    for i in range(len(arr) -k +1):\n",
    "        window_sum = 0\n",
    "        for j in range(i, i+k):\n",
    "            window_sum += arr[j]\n",
    "        max_sum += arr[j]\n",
    "    return max_sum\n",
    "\n",
    "def main():\n",
    "  print(\"Maximum sum of a subarray of size K: \" + str(max_sub_array_of_size_k(3, [2, 1, 5, 1, 3, 2])))\n",
    "  print(\"Maximum sum of a subarray of size K: \" + str(max_sub_array_of_size_k(2, [2, 3, 4, 1, 5])))\n",
    "\n",
    "main()"
   ]
  },
  {
   "cell_type": "markdown",
   "id": "954cb840",
   "metadata": {},
   "source": [
    "The above **brute force** algorithm’s time complexity will be: $$O(N*K)$$ where ‘N’ is the total number of elements in the given array. "
   ]
  },
  {
   "cell_type": "markdown",
   "id": "31b323e3",
   "metadata": {},
   "source": [
    "A **better approach:**\n",
    "\n",
    "To slide the window forward and calculate the sum of the new position of the sliding window, we need to do two things:\n",
    "- 1) Subtract the element going out of the sliding window, i.e., subtract the first element of the window.\n",
    "- 2) Add the new element getting included in the sliding window, i.e., the element coming right after the end of the window.\n",
    "\n",
    "This approach will save us from re-calculating the sum of the overlapping part of the sliding window. Here is what our algorithm will look like:"
   ]
  },
  {
   "cell_type": "code",
   "execution_count": 13,
   "id": "15738ff1",
   "metadata": {},
   "outputs": [],
   "source": [
    "def max_sub_array_of_size_k(k, arr):\n",
    "    max_sum, window_sum, window_start = 0, 0, 0\n",
    "    \n",
    "    for window_end in range(len(arr)):\n",
    "        window_sum += arr[window_end] #add the next element\n",
    "        # slide the window, we don't need to slide if we've not hit the required window size of 'k'\n",
    "        if window_end >= k-1:\n",
    "            max_sum = max(max_sum, window_sum)\n",
    "            window_sum -= arr[window_start] # subtract the element going out\n",
    "            window_start += 1 # slide the window ahead\n",
    "    return max_sum"
   ]
  },
  {
   "cell_type": "code",
   "execution_count": 14,
   "id": "dec29521",
   "metadata": {},
   "outputs": [
    {
     "name": "stdout",
     "output_type": "stream",
     "text": [
      "Maximum sum of a subarray of size K: 9\n",
      "Maximum sum of a subarray of size K: 7\n"
     ]
    }
   ],
   "source": [
    "def main():\n",
    "  print(\"Maximum sum of a subarray of size K: \" + str(max_sub_array_of_size_k(3, [2, 1, 5, 1, 3, 2])))\n",
    "  print(\"Maximum sum of a subarray of size K: \" + str(max_sub_array_of_size_k(2, [2, 3, 4, 1, 5])))\n",
    "\n",
    "main()"
   ]
  },
  {
   "cell_type": "markdown",
   "id": "8eca57d7",
   "metadata": {},
   "source": [
    "**Time Complexity:** $O(N)$\n",
    "\n",
    "**Space Complexity:** $O(1)$ (constant space)"
   ]
  },
  {
   "cell_type": "code",
   "execution_count": null,
   "id": "ffd85210",
   "metadata": {},
   "outputs": [],
   "source": []
  },
  {
   "cell_type": "code",
   "execution_count": null,
   "id": "aba47036",
   "metadata": {},
   "outputs": [],
   "source": []
  },
  {
   "cell_type": "code",
   "execution_count": 140,
   "id": "70d269a1",
   "metadata": {},
   "outputs": [],
   "source": [
    "def fizz_buzz(n):\n",
    "    result=[]\n",
    "    for i in range(1,n+1):\n",
    "        if (i%3==0) & (i%5==0):\n",
    "            result.append(\"fizzbuzz\")\n",
    "        elif i%3==0:\n",
    "            result.append(\"fizz\")\n",
    "        elif i%5==0:\n",
    "            result.append(\"buzz\")\n",
    "        else:\n",
    "            result.append(str(i))\n",
    "    result = ''.join(result)\n",
    "    return result"
   ]
  },
  {
   "cell_type": "code",
   "execution_count": 141,
   "id": "b1e68047",
   "metadata": {},
   "outputs": [
    {
     "data": {
      "text/plain": [
       "'12fizz4buzzfizz78fizzbuzz11fizz1314fizzbuzz'"
      ]
     },
     "execution_count": 141,
     "metadata": {},
     "output_type": "execute_result"
    }
   ],
   "source": [
    "fizz_buzz(15)"
   ]
  },
  {
   "cell_type": "code",
   "execution_count": 142,
   "id": "a0c117de",
   "metadata": {},
   "outputs": [
    {
     "data": {
      "text/plain": [
       "'1'"
      ]
     },
     "execution_count": 142,
     "metadata": {},
     "output_type": "execute_result"
    }
   ],
   "source": [
    "fizz_buzz(1)"
   ]
  },
  {
   "cell_type": "code",
   "execution_count": 138,
   "id": "dc0ee881",
   "metadata": {},
   "outputs": [
    {
     "data": {
      "text/plain": [
       "1"
      ]
     },
     "execution_count": 138,
     "metadata": {},
     "output_type": "execute_result"
    }
   ],
   "source": [
    "1%3"
   ]
  },
  {
   "cell_type": "code",
   "execution_count": 139,
   "id": "4940b194",
   "metadata": {},
   "outputs": [
    {
     "data": {
      "text/plain": [
       "1"
      ]
     },
     "execution_count": 139,
     "metadata": {},
     "output_type": "execute_result"
    }
   ],
   "source": [
    "1%5"
   ]
  },
  {
   "cell_type": "code",
   "execution_count": null,
   "id": "41c49127",
   "metadata": {},
   "outputs": [],
   "source": []
  },
  {
   "cell_type": "code",
   "execution_count": null,
   "id": "aeb69f41",
   "metadata": {},
   "outputs": [],
   "source": []
  },
  {
   "cell_type": "code",
   "execution_count": null,
   "id": "04875c56",
   "metadata": {},
   "outputs": [],
   "source": []
  },
  {
   "cell_type": "code",
   "execution_count": null,
   "id": "687a6dcc",
   "metadata": {},
   "outputs": [],
   "source": []
  },
  {
   "cell_type": "code",
   "execution_count": null,
   "id": "04fa130e",
   "metadata": {},
   "outputs": [],
   "source": []
  },
  {
   "cell_type": "code",
   "execution_count": 2,
   "id": "16371287",
   "metadata": {},
   "outputs": [
    {
     "name": "stdout",
     "output_type": "stream",
     "text": [
      "0\n",
      "1\n",
      "2\n",
      "3\n",
      "4\n",
      "5\n",
      "6\n",
      "7\n",
      "8\n",
      "9\n"
     ]
    }
   ],
   "source": [
    "for x in range(10):\n",
    "    print(x)"
   ]
  },
  {
   "cell_type": "code",
   "execution_count": null,
   "id": "ff3e5eea",
   "metadata": {},
   "outputs": [],
   "source": []
  },
  {
   "cell_type": "code",
   "execution_count": null,
   "id": "46e56bfa",
   "metadata": {},
   "outputs": [],
   "source": []
  },
  {
   "cell_type": "markdown",
   "id": "e55d491e",
   "metadata": {},
   "source": [
    "<img src='data/bigo4.png' width=\"600\" height=\"300\" align=\"center\"/>"
   ]
  }
 ],
 "metadata": {
  "kernelspec": {
   "display_name": "Python 3",
   "language": "python",
   "name": "python3"
  },
  "language_info": {
   "codemirror_mode": {
    "name": "ipython",
    "version": 3
   },
   "file_extension": ".py",
   "mimetype": "text/x-python",
   "name": "python",
   "nbconvert_exporter": "python",
   "pygments_lexer": "ipython3",
   "version": "3.8.8"
  }
 },
 "nbformat": 4,
 "nbformat_minor": 5
}
