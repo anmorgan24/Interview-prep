{
 "cells": [
  {
   "cell_type": "markdown",
   "id": "ed18360e",
   "metadata": {},
   "source": [
    "# Big(O) Notation"
   ]
  },
  {
   "cell_type": "code",
   "execution_count": 1,
   "id": "a3f1a9c9",
   "metadata": {},
   "outputs": [],
   "source": [
    "import numpy as np\n",
    "import matplotlib.pyplot as plt"
   ]
  },
  {
   "cell_type": "markdown",
   "id": "0867e294",
   "metadata": {},
   "source": [
    "- Clock time is hardware-dependent\n",
    "- An efficient program may take more time to execute on a slower computer than an inefficient program on a fast computer\n",
    "- So, clock time is not a good metric to find time complexity\n",
    "- Big(O) allows us to compare the algorithm complexity of two programs in a standardized manner\n",
    "- **Big(O) notation is an algorithm complexity metric that defines the relationship between the number of inputs and the steps taken by the program to proccess those inputs.**\n",
    "- Big(O) is **not** about measuring speed\n",
    "- Big(O) **is** about measuring the amount of work a program has to do *as an input scales.*\n",
    "- We can use Big(O) to define **both** time and space complexity"
   ]
  },
  {
   "cell_type": "markdown",
   "id": "fb3466dc",
   "metadata": {},
   "source": [
    "## Some Big(O) examples from \"fastest\" to \"slowest\"\n",
    "***\n",
    "### CONSTANT: $$O(c)$$\n",
    "Steps taken remain the same irrespective of the input size; does **not** scale with input.\n",
    "<img src='data/bigo1.png' width=\"600\" height=\"300\" align=\"center\"/>"
   ]
  },
  {
   "cell_type": "code",
   "execution_count": 2,
   "id": "99802039",
   "metadata": {},
   "outputs": [
    {
     "data": {
      "image/png": "[encoded data removed]",
      "text/plain": [
       "<Figure size 432x288 with 1 Axes>"
      ]
     },
     "metadata": {
      "needs_background": "light"
     },
     "output_type": "display_data"
    }
   ],
   "source": [
    "num_of_inputs = np.array([1,2,3,4,5,6,7])\n",
    "steps = [2 for n in num_of_inputs]\n",
    " \n",
    "plt.plot(num_of_inputs, steps, 'r')\n",
    "plt.xlabel('Number of inputs')\n",
    "plt.ylabel('Number of steps')\n",
    "plt.title('O(c) Complexity')\n",
    "\n",
    "plt.show()"
   ]
  },
  {
   "cell_type": "markdown",
   "id": "ca5b65bf",
   "metadata": {},
   "source": [
    "***\n",
    "### LOGARITHMIC:\n",
    "$$O(log(n))$$\n",
    "<img src='data/bigo1.png' width=\"600\" height=\"300\" align=\"center\"/>"
   ]
  },
  {
   "cell_type": "markdown",
   "id": "c134e0cf",
   "metadata": {},
   "source": [
    "***\n",
    "### LINEAR:\n",
    "$$O(n)$$\n"
   ]
  },
  {
   "cell_type": "markdown",
   "id": "fcddc005",
   "metadata": {},
   "source": [
    "***\n",
    "### QUADRATIC:\n",
    "$$O(n^2)$$\n"
   ]
  },
  {
   "cell_type": "markdown",
   "id": "859b14d6",
   "metadata": {},
   "source": [
    "***\n",
    "### CUBIC:\n",
    "$$O(n^3)$$\n"
   ]
  },
  {
   "cell_type": "markdown",
   "id": "ac1e39f4",
   "metadata": {},
   "source": [
    "***\n",
    "### EXPONENTIAL:\n",
    "$$O(2^n)$$\n"
   ]
  },
  {
   "cell_type": "markdown",
   "id": "5c93ac25",
   "metadata": {},
   "source": [
    "***\n",
    "### FACTORIAL:\n",
    "$$O(n!)$$\n"
   ]
  },
  {
   "cell_type": "markdown",
   "id": "5ef7a1e8",
   "metadata": {},
   "source": []
  },
  {
   "cell_type": "markdown",
   "id": "88615332",
   "metadata": {},
   "source": []
  },
  {
   "cell_type": "markdown",
   "id": "c4a54fdd",
   "metadata": {},
   "source": []
  },
  {
   "cell_type": "markdown",
   "id": "6403699e",
   "metadata": {},
   "source": []
  },
  {
   "cell_type": "code",
   "execution_count": null,
   "id": "c2200baf",
   "metadata": {},
   "outputs": [],
   "source": []
  },
  {
   "cell_type": "code",
   "execution_count": null,
   "id": "89575d93",
   "metadata": {},
   "outputs": [],
   "source": [
    "<img src='data/bigo1.png' width=\"600\" height=\"300\" align=\"center\"/>"
   ]
  }
 ],
 "metadata": {
  "kernelspec": {
   "display_name": "Python 3",
   "language": "python",
   "name": "python3"
  },
  "language_info": {
   "codemirror_mode": {
    "name": "ipython",
    "version": 3
   },
   "file_extension": ".py",
   "mimetype": "text/x-python",
   "name": "python",
   "nbconvert_exporter": "python",
   "pygments_lexer": "ipython3",
   "version": "3.8.8"
  }
 },
 "nbformat": 4,
 "nbformat_minor": 5
}
